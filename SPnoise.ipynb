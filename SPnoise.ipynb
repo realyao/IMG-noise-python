{
 "cells": [
  {
   "cell_type": "code",
   "execution_count": 1,
   "metadata": {},
   "outputs": [],
   "source": [
    "import cv2\n",
    "import numpy as np\n",
    "import os\n",
    "import random\n",
    "# 生成椒盐噪声（即图像的像素点由于噪声影响随机变成了黑点或白点"
   ]
  },
  {
   "cell_type": "code",
   "execution_count": 3,
   "metadata": {},
   "outputs": [],
   "source": [
    "file = 'data_img\\\\' #源数据文件夹\n",
    " \n",
    "for file_img in os.listdir(file): \n",
    "    img = cv2.imread(file + file_img) \n",
    "    mask_img = cv2.imread(file + file_img)  # 需要处理的文件\n",
    "    h,w = img.shape[:2]  #获取图像的宽高信息\n",
    "    nums = 100000  # 控制噪声的密度\n",
    "    rows = np.random.randint(0, h, (100000), dtype = np.int)\n",
    "    cols = np.random.randint(0,w,(100000),dtype = np.int)\n",
    "    for i in range(nums):\n",
    "        if i%2 == 1:\n",
    "            img[rows[i],cols[i]] = (255,255,255)#奇数则产生白色\n",
    "        else:img[rows[i],cols[i]] = (0,0,0) #偶数则产生黑椒盐色\n",
    "   \n",
    "    cv2.imwrite('result_spnoise\\\\' + file_img, img) # 保存的文件夹\n"
   ]
  },
  {
   "cell_type": "code",
   "execution_count": null,
   "metadata": {},
   "outputs": [],
   "source": []
  }
 ],
 "metadata": {
  "kernelspec": {
   "display_name": "Python(tor)",
   "language": "python",
   "name": "tor"
  },
  "language_info": {
   "codemirror_mode": {
    "name": "ipython",
    "version": 3
   },
   "file_extension": ".py",
   "mimetype": "text/x-python",
   "name": "python",
   "nbconvert_exporter": "python",
   "pygments_lexer": "ipython3",
   "version": "3.6.12"
  }
 },
 "nbformat": 4,
 "nbformat_minor": 2
}
