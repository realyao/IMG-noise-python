{
 "cells": [
  {
   "cell_type": "code",
   "execution_count": 1,
   "metadata": {},
   "outputs": [],
   "source": [
    "import cv2\n",
    "import math\n",
    "import numpy as np\n",
    "import os\n",
    "import random\n",
    "#给图片添加白雾"
   ]
  },
  {
   "cell_type": "code",
   "execution_count": 4,
   "metadata": {},
   "outputs": [],
   "source": [
    "\n",
    "file = 'data_img\\\\' #源数据文件夹\n",
    " \n",
    "for file_img in os.listdir(file): \n",
    "    img = cv2.imread(file + file_img) \n",
    "    mask_img = cv2.imread(file + file_img)  # 需要处理的文件\n",
    "    # mask_img=np.zeros((img.shape[1], img.shape[0]), dtype=np.uint8)\n",
    "    # mask_img[:, :] = (144, 128, 112)  # 112, 128, 144 RGB\n",
    "    mask_img[:, :] = (166, 178, 180) # 雾的颜色\n",
    "    # cv.imwrite('./rtimg.jpg', mask_img)\n",
    "    # area = [[0, 0], [0, img.shape[0]], [img.shape[1], img.shape[0]], [img.shape[1], 0]]\n",
    "    # mask_img = cv.fillConvexPoly(mask_img, np.array(area, np.int32)[[]], (255, 255, 0))\n",
    "    image = cv2.addWeighted(img,1,mask_img,round(random.uniform(0.5, 0.6), 2), 0)\n",
    "    #两图像叠加，后为权重\n",
    "    cv2.imwrite('result_fog\\\\' + file_img, image) # 保存的文件夹"
   ]
  },
  {
   "cell_type": "code",
   "execution_count": null,
   "metadata": {},
   "outputs": [],
   "source": []
  }
 ],
 "metadata": {
  "kernelspec": {
   "display_name": "Python(tor)",
   "language": "python",
   "name": "tor"
  },
  "language_info": {
   "codemirror_mode": {
    "name": "ipython",
    "version": 3
   },
   "file_extension": ".py",
   "mimetype": "text/x-python",
   "name": "python",
   "nbconvert_exporter": "python",
   "pygments_lexer": "ipython3",
   "version": "3.6.12"
  }
 },
 "nbformat": 4,
 "nbformat_minor": 2
}
