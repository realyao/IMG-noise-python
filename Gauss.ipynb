{
 "cells": [
  {
   "cell_type": "code",
   "execution_count": 3,
   "metadata": {},
   "outputs": [],
   "source": [
    "import cv2\n",
    "import math\n",
    "import numpy as np\n",
    "import os\n",
    "import random\n",
    "# 添加高斯噪声"
   ]
  },
  {
   "cell_type": "code",
   "execution_count": 4,
   "metadata": {},
   "outputs": [],
   "source": [
    "file = 'datatest\\\\' #源数据文件夹\n",
    " \n",
    "for file_img in os.listdir(file): \n",
    "    img = cv2.imread(file + file_img) \n",
    "    gauss_nois = np.zeros(img.shape, dtype=np.uint8)\n",
    "    m = (0,0,0)\n",
    "    s = (100, 100, 100)\n",
    "    cv2.randn(gauss_nois, m, s)\n",
    "    noised_img = img + gauss_nois\n",
    "    cv2.imwrite('result_gauss\\\\' + file_img, noised_img) # 保存的文件夹"
   ]
  },
  {
   "cell_type": "code",
   "execution_count": null,
   "metadata": {},
   "outputs": [],
   "source": []
  }
 ],
 "metadata": {
  "interpreter": {
   "hash": "ab54ace00a12c5be66ed5e1902b7da591784caa4140a01c6953567d2f0248626"
  },
  "kernelspec": {
   "display_name": "Python(tor)",
   "language": "python",
   "name": "python3"
  },
  "language_info": {
   "codemirror_mode": {
    "name": "ipython",
    "version": 3
   },
   "file_extension": ".py",
   "mimetype": "text/x-python",
   "name": "python",
   "nbconvert_exporter": "python",
   "pygments_lexer": "ipython3",
   "version": "3.9.5"
  }
 },
 "nbformat": 4,
 "nbformat_minor": 2
}
